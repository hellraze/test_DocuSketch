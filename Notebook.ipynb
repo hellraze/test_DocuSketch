{
 "cells": [
  {
   "cell_type": "code",
   "execution_count": 1,
   "id": "initial_id",
   "metadata": {
    "collapsed": true,
    "ExecuteTime": {
     "end_time": "2024-01-09T16:50:29.683709100Z",
     "start_time": "2024-01-09T16:50:29.139273900Z"
    }
   },
   "outputs": [],
   "source": [
    "import pandas as pd\n",
    "from PlotDrawer import PlotDrawer"
   ]
  },
  {
   "cell_type": "code",
   "execution_count": 2,
   "outputs": [],
   "source": [
    "df = pd.read_json('deviation.json')"
   ],
   "metadata": {
    "collapsed": false,
    "ExecuteTime": {
     "end_time": "2024-01-09T16:50:29.695597200Z",
     "start_time": "2024-01-09T16:50:29.682708200Z"
    }
   },
   "id": "707eefc505eb0e5d"
  },
  {
   "cell_type": "code",
   "execution_count": 3,
   "outputs": [
    {
     "data": {
      "text/plain": "                  name  gt_corners  rb_corners       mean        max  \\\n0         Schlafzimmer           4           4   3.956313   8.562939   \n1                Küche           4           4  23.019122  52.605437   \n2             Bathroom           4           4   1.013833   1.950322   \n3         Lounge/Diner           8           8   3.832620  18.236935   \n4           Essbereich           4           4   8.017758  15.642853   \n...                ...         ...         ...        ...        ...   \n1342    Master Bedroom           4           4   1.739907   4.703960   \n1343  Master Bedroom 2           4           4   0.530908   0.786997   \n1344          Zimmer I           4           4   0.880569   1.221873   \n1345  Hallway Bathroom           6           6  24.923452  64.266820   \n1346         Bedroom 4           4           4   0.387328   0.762659   \n\n           min  floor_mean  floor_max  floor_min  ceiling_mean  ceiling_max  \\\n0     0.274574    3.987864   8.562939   0.274574      3.924762     8.501885   \n1     0.724299    1.253103   1.897612   0.724299     44.785141    52.605437   \n2     0.301673    0.659138   1.318714   0.301673      1.368528     1.950322   \n3     0.173307    3.600083  15.041431   0.173307      4.065157    18.236935   \n4     0.762948    7.819446  15.399635   0.762948      8.216069    15.642853   \n...        ...         ...        ...        ...           ...          ...   \n1342  0.166677    0.487452   1.074033   0.166677      2.992362     4.703960   \n1343  0.101973    0.323746   0.614770   0.101973      0.738071     0.786997   \n1344  0.362600    0.823587   1.120810   0.362600      0.937550     1.221873   \n1345  0.064699   24.857904  64.123596   0.064699     24.988999    64.266820   \n1346  0.166426    0.349720   0.730373   0.205136      0.424936     0.762659   \n\n      ceiling_min  \n0        0.331494  \n1       36.880814  \n2        0.878106  \n3        0.253457  \n4        0.909029  \n...           ...  \n1342     1.216172  \n1343     0.670290  \n1344     0.490739  \n1345     0.074356  \n1346     0.166426  \n\n[1347 rows x 12 columns]",
      "text/html": "<div>\n<style scoped>\n    .dataframe tbody tr th:only-of-type {\n        vertical-align: middle;\n    }\n\n    .dataframe tbody tr th {\n        vertical-align: top;\n    }\n\n    .dataframe thead th {\n        text-align: right;\n    }\n</style>\n<table border=\"1\" class=\"dataframe\">\n  <thead>\n    <tr style=\"text-align: right;\">\n      <th></th>\n      <th>name</th>\n      <th>gt_corners</th>\n      <th>rb_corners</th>\n      <th>mean</th>\n      <th>max</th>\n      <th>min</th>\n      <th>floor_mean</th>\n      <th>floor_max</th>\n      <th>floor_min</th>\n      <th>ceiling_mean</th>\n      <th>ceiling_max</th>\n      <th>ceiling_min</th>\n    </tr>\n  </thead>\n  <tbody>\n    <tr>\n      <th>0</th>\n      <td>Schlafzimmer</td>\n      <td>4</td>\n      <td>4</td>\n      <td>3.956313</td>\n      <td>8.562939</td>\n      <td>0.274574</td>\n      <td>3.987864</td>\n      <td>8.562939</td>\n      <td>0.274574</td>\n      <td>3.924762</td>\n      <td>8.501885</td>\n      <td>0.331494</td>\n    </tr>\n    <tr>\n      <th>1</th>\n      <td>Küche</td>\n      <td>4</td>\n      <td>4</td>\n      <td>23.019122</td>\n      <td>52.605437</td>\n      <td>0.724299</td>\n      <td>1.253103</td>\n      <td>1.897612</td>\n      <td>0.724299</td>\n      <td>44.785141</td>\n      <td>52.605437</td>\n      <td>36.880814</td>\n    </tr>\n    <tr>\n      <th>2</th>\n      <td>Bathroom</td>\n      <td>4</td>\n      <td>4</td>\n      <td>1.013833</td>\n      <td>1.950322</td>\n      <td>0.301673</td>\n      <td>0.659138</td>\n      <td>1.318714</td>\n      <td>0.301673</td>\n      <td>1.368528</td>\n      <td>1.950322</td>\n      <td>0.878106</td>\n    </tr>\n    <tr>\n      <th>3</th>\n      <td>Lounge/Diner</td>\n      <td>8</td>\n      <td>8</td>\n      <td>3.832620</td>\n      <td>18.236935</td>\n      <td>0.173307</td>\n      <td>3.600083</td>\n      <td>15.041431</td>\n      <td>0.173307</td>\n      <td>4.065157</td>\n      <td>18.236935</td>\n      <td>0.253457</td>\n    </tr>\n    <tr>\n      <th>4</th>\n      <td>Essbereich</td>\n      <td>4</td>\n      <td>4</td>\n      <td>8.017758</td>\n      <td>15.642853</td>\n      <td>0.762948</td>\n      <td>7.819446</td>\n      <td>15.399635</td>\n      <td>0.762948</td>\n      <td>8.216069</td>\n      <td>15.642853</td>\n      <td>0.909029</td>\n    </tr>\n    <tr>\n      <th>...</th>\n      <td>...</td>\n      <td>...</td>\n      <td>...</td>\n      <td>...</td>\n      <td>...</td>\n      <td>...</td>\n      <td>...</td>\n      <td>...</td>\n      <td>...</td>\n      <td>...</td>\n      <td>...</td>\n      <td>...</td>\n    </tr>\n    <tr>\n      <th>1342</th>\n      <td>Master Bedroom</td>\n      <td>4</td>\n      <td>4</td>\n      <td>1.739907</td>\n      <td>4.703960</td>\n      <td>0.166677</td>\n      <td>0.487452</td>\n      <td>1.074033</td>\n      <td>0.166677</td>\n      <td>2.992362</td>\n      <td>4.703960</td>\n      <td>1.216172</td>\n    </tr>\n    <tr>\n      <th>1343</th>\n      <td>Master Bedroom 2</td>\n      <td>4</td>\n      <td>4</td>\n      <td>0.530908</td>\n      <td>0.786997</td>\n      <td>0.101973</td>\n      <td>0.323746</td>\n      <td>0.614770</td>\n      <td>0.101973</td>\n      <td>0.738071</td>\n      <td>0.786997</td>\n      <td>0.670290</td>\n    </tr>\n    <tr>\n      <th>1344</th>\n      <td>Zimmer I</td>\n      <td>4</td>\n      <td>4</td>\n      <td>0.880569</td>\n      <td>1.221873</td>\n      <td>0.362600</td>\n      <td>0.823587</td>\n      <td>1.120810</td>\n      <td>0.362600</td>\n      <td>0.937550</td>\n      <td>1.221873</td>\n      <td>0.490739</td>\n    </tr>\n    <tr>\n      <th>1345</th>\n      <td>Hallway Bathroom</td>\n      <td>6</td>\n      <td>6</td>\n      <td>24.923452</td>\n      <td>64.266820</td>\n      <td>0.064699</td>\n      <td>24.857904</td>\n      <td>64.123596</td>\n      <td>0.064699</td>\n      <td>24.988999</td>\n      <td>64.266820</td>\n      <td>0.074356</td>\n    </tr>\n    <tr>\n      <th>1346</th>\n      <td>Bedroom 4</td>\n      <td>4</td>\n      <td>4</td>\n      <td>0.387328</td>\n      <td>0.762659</td>\n      <td>0.166426</td>\n      <td>0.349720</td>\n      <td>0.730373</td>\n      <td>0.205136</td>\n      <td>0.424936</td>\n      <td>0.762659</td>\n      <td>0.166426</td>\n    </tr>\n  </tbody>\n</table>\n<p>1347 rows × 12 columns</p>\n</div>"
     },
     "execution_count": 3,
     "metadata": {},
     "output_type": "execute_result"
    }
   ],
   "source": [
    "df"
   ],
   "metadata": {
    "collapsed": false,
    "ExecuteTime": {
     "end_time": "2024-01-09T16:50:29.721452900Z",
     "start_time": "2024-01-09T16:50:29.699601100Z"
    }
   },
   "id": "dcdbd26c52e7200f"
  },
  {
   "cell_type": "code",
   "execution_count": 4,
   "outputs": [],
   "source": [
    "plot_drawer = PlotDrawer()"
   ],
   "metadata": {
    "collapsed": false,
    "ExecuteTime": {
     "end_time": "2024-01-09T16:50:29.722451700Z",
     "start_time": "2024-01-09T16:50:29.711935800Z"
    }
   },
   "id": "f06be02c3efce872"
  },
  {
   "cell_type": "code",
   "execution_count": 5,
   "outputs": [
    {
     "data": {
      "text/plain": "'plots/corners_comparison.png'"
     },
     "execution_count": 5,
     "metadata": {},
     "output_type": "execute_result"
    }
   ],
   "source": [
    "plot_paths = plot_drawer.draw_plots(df)\n",
    "plot_paths"
   ],
   "metadata": {
    "collapsed": false,
    "ExecuteTime": {
     "end_time": "2024-01-09T16:50:29.895285700Z",
     "start_time": "2024-01-09T16:50:29.714450800Z"
    }
   },
   "id": "3a7d32f67de80070"
  }
 ],
 "metadata": {
  "kernelspec": {
   "display_name": "Python 3",
   "language": "python",
   "name": "python3"
  },
  "language_info": {
   "codemirror_mode": {
    "name": "ipython",
    "version": 2
   },
   "file_extension": ".py",
   "mimetype": "text/x-python",
   "name": "python",
   "nbconvert_exporter": "python",
   "pygments_lexer": "ipython2",
   "version": "2.7.6"
  }
 },
 "nbformat": 4,
 "nbformat_minor": 5
}
